{
 "cells": [
  {
   "cell_type": "markdown",
   "metadata": {},
   "source": [
    "# Ejercicio - Escribir declaraciones if, else, y elif"
   ]
  },
  {
   "cell_type": "code",
   "execution_count": 1,
   "metadata": {},
   "outputs": [
    {
     "name": "stdout",
     "output_type": "stream",
     "text": [
      "ADVERTENCIA: Peligro, asteroide cerca de la tierra\n"
     ]
    }
   ],
   "source": [
    "velocidadAsteroide = 49\n",
    "if velocidadAsteroide > 25:\n",
    "    print(\"ADVERTENCIA: Peligro, asteroide cerca de la tierra\")\n",
    "else:\n",
    "    print(\"No hay de que preocuparse, sigue con tu día\")"
   ]
  },
  {
   "cell_type": "code",
   "execution_count": null,
   "metadata": {},
   "outputs": [],
   "source": [
    "velocidadAsteroide = 19\n",
    "if velocidadAsteroide >= 20:\n",
    "    print(\"No hay nada que ver en el cielo\")\n",
    "elif velocidadAsteroide == 20:\n",
    "    print(\"No hay nada que ver en el cielo\")\n",
    "else:\n",
    "    print(\"Wow, se puede ver una luz en el cielo\")"
   ]
  },
  {
   "cell_type": "markdown",
   "metadata": {},
   "source": [
    "# Ejercicio uso de operadores and y or"
   ]
  },
  {
   "cell_type": "code",
   "execution_count": 14,
   "metadata": {},
   "outputs": [
    {
     "name": "stdout",
     "output_type": "stream",
     "text": [
      "Wow, se puede ver una luz en el cielo\n"
     ]
    }
   ],
   "source": [
    "dimensionAsteroide = 50\n",
    "velocidadAsteroide = 20\n",
    "\n",
    "if (dimensionAsteroide > 25 and dimensionAsteroide < 1000) and (velocidadAsteroide > 25) :\n",
    "    print(\"ADVERTENCIA: Asteroide golpeara la tierra\")\n",
    "elif velocidadAsteroide >= 20:\n",
    "    print(\"Wow, se puede ver una luz en el cielo\")\n",
    "elif dimensionAsteroide < 25:\n",
    "    print(\"No hay de que preocuparse, sigue con tu día\")\n",
    "else:\n",
    "    print(\"No hay de que preocuparse, sigue con tu día\")"
   ]
  }
 ],
 "metadata": {
  "interpreter": {
   "hash": "c6d7431dcf53f783319850aaf61ced12a3c68bf79ce9ca5973a5252219934784"
  },
  "kernelspec": {
   "display_name": "Python 3.10.2 64-bit",
   "language": "python",
   "name": "python3"
  },
  "language_info": {
   "codemirror_mode": {
    "name": "ipython",
    "version": 3
   },
   "file_extension": ".py",
   "mimetype": "text/x-python",
   "name": "python",
   "nbconvert_exporter": "python",
   "pygments_lexer": "ipython3",
   "version": "3.10.2"
  },
  "orig_nbformat": 4
 },
 "nbformat": 4,
 "nbformat_minor": 2
}
