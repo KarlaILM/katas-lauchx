{
 "cells": [
  {
   "cell_type": "markdown",
   "metadata": {},
   "source": [
    "## Ejercicio: Uso de funciones en Python"
   ]
  },
  {
   "cell_type": "markdown",
   "metadata": {},
   "source": [
    "Ejercicio 1: Trabajar con argumentos en funciones\n",
    "\n",
    "Los argumentos requeridos en las funciones se utilizan cuando las funciones necesitan que esos argumentos funcionen correctamente. En este ejercicio, construirás un informe de combustible que requiere información de varias ubicaciones de combustible en todo el cohete.\n",
    "\n",
    "Comienza por crear una función que necesite tres lecturas de combustible y devuelva un informe:"
   ]
  },
  {
   "cell_type": "code",
   "execution_count": 40,
   "metadata": {},
   "outputs": [],
   "source": [
    "\n",
    "def informe(tanque1, tanque2, tanque3):\n",
    "    promedio = (tanque1 + tanque2 + tanque3) / 3\n",
    "    return f\"\"\"\n",
    "    Tanque 1: {tanque1}%\n",
    "    Tanque 2: {tanque2}%\n",
    "    Tanque 3: {tanque3}%\n",
    "    Promedio: {promedio}%\n",
    "    \"\"\"\n"
   ]
  },
  {
   "cell_type": "markdown",
   "metadata": {},
   "source": [
    "Ahora que hemos definido la función de informes, vamos a comprobarlo. Para esta misión, los tanques no están llenos:"
   ]
  },
  {
   "cell_type": "code",
   "execution_count": 41,
   "metadata": {},
   "outputs": [
    {
     "name": "stdout",
     "output_type": "stream",
     "text": [
      "\n",
      "    Tanque 1: 50%\n",
      "    Tanque 2: 60%\n",
      "    Tanque 3: 80%\n",
      "    Promedio: 63.333333333333336%\n",
      "    \n"
     ]
    }
   ],
   "source": [
    "print(informe(50,60,80))"
   ]
  },
  {
   "cell_type": "markdown",
   "metadata": {},
   "source": [
    "En lugar de simplemente crear el informe, la función también está calculando el promedio. Mejora la legibilidad extrayendo el cálculo promedio de la función en una nueva función para que el promedio se pueda hacer de forma independiente:"
   ]
  },
  {
   "cell_type": "code",
   "execution_count": 25,
   "metadata": {},
   "outputs": [
    {
     "data": {
      "text/plain": [
       "63.333333333333336"
      ]
     },
     "execution_count": 25,
     "metadata": {},
     "output_type": "execute_result"
    }
   ],
   "source": [
    "def promedio(datos):\n",
    "    total = sum(datos)\n",
    "    elementos= len(datos)\n",
    "    return total / elementos\n",
    "\n",
    "promedio([50,60,80])"
   ]
  },
  {
   "cell_type": "markdown",
   "metadata": {},
   "source": [
    "Ahora actualiza la función de informes para llamando a la nueva función del promedio:"
   ]
  },
  {
   "cell_type": "code",
   "execution_count": 38,
   "metadata": {},
   "outputs": [
    {
     "data": {
      "text/plain": [
       "65.0"
      ]
     },
     "execution_count": 38,
     "metadata": {},
     "output_type": "execute_result"
    }
   ],
   "source": [
    "\n",
    "   "
   ]
  },
  {
   "cell_type": "markdown",
   "metadata": {},
   "source": [
    "## Ejercicio 2: Trabajo con argumentos de palabra clave\n",
    "\n",
    "Ejercicio : Trabajar con argumentos de palabras clave en funciones\n",
    "\n",
    "En este ejercicio, construirás un informe de cohete que requiere varias piezas de información, como el tiempo hasta el destino, el combustible a la izquierda y el nombre del destino. Comienza por crear una función que creará un informe preciso de la misión:"
   ]
  },
  {
   "cell_type": "code",
   "execution_count": 42,
   "metadata": {},
   "outputs": [
    {
     "name": "stdout",
     "output_type": "stream",
     "text": [
      "\n",
      "    Rumbo a: Marte\n",
      "    Tiempo al destino: 29 minutos\n",
      "    Total combustible: 7000\n",
      "    \n"
     ]
    }
   ],
   "source": [
    "def informeMision(hora_lanzamiento, tiempo_vuelo, destino, tanque_ext, tanque_int):\n",
    "    return f\"\"\"\n",
    "    Rumbo a: {destino}\n",
    "    Tiempo al destino: {hora_lanzamiento+tiempo_vuelo} minutos\n",
    "    Total combustible: {tanque_ext+tanque_int}\n",
    "    \"\"\"\n",
    "print(informeMision(19, 10, \"Marte\", 5000, 2000))"
   ]
  },
  {
   "cell_type": "markdown",
   "metadata": {},
   "source": [
    "La función es problemática porque no se puede adaptar para minutos adicionales o tanques adicionales de combustible. Hazlo más flexible permitiendo cualquier número de pasos basados en el tiempo y cualquier número de tanques. En lugar de usar *args y **kwargs, aprovecha el hecho de que puedes usar cualquier nombre que desees. Asegurate que la función sea más legible mediante el uso de nombres de variables que están asociados con las entradas, como *minutes y **fuel_reservoirs:"
   ]
  },
  {
   "cell_type": "code",
   "execution_count": 44,
   "metadata": {},
   "outputs": [
    {
     "name": "stdout",
     "output_type": "stream",
     "text": [
      "\n",
      "    Rumbo a: Marte\n",
      "    Tiempo al destino: 112 minutes\n",
      "    Total combustible: 90700\n",
      "    \n"
     ]
    }
   ],
   "source": [
    "def informeMision(destino, *minutos, **combustible):\n",
    "    return f\"\"\"\n",
    "    Rumbo a: {destino}\n",
    "    Tiempo al destino: {sum(minutos)} minutos\n",
    "    Total combustible: {sum(combustible.values())}\n",
    "    \"\"\"\n",
    "\n",
    "print(informeMision(\"Marte\", 13, 19, 80, main=35500, external=55200))"
   ]
  },
  {
   "cell_type": "markdown",
   "metadata": {},
   "source": [
    "Debido a que el combustible que queda en los tanques es específico de cada tanque, actualiza la función para usar el nombre de cada tanque en el informe:"
   ]
  },
  {
   "cell_type": "code",
   "execution_count": 51,
   "metadata": {},
   "outputs": [
    {
     "name": "stdout",
     "output_type": "stream",
     "text": [
      "\n",
      "    Rumbo a: Marte\n",
      "    Tiempo al destino: 112 minutos\n",
      "    Total combustible: 90700\n",
      "    \n"
     ]
    }
   ],
   "source": [
    "def informeMision(destino, *minutos, **combustible):\n",
    "    return f\"\"\"\n",
    "    Rumbo a: {destino}\n",
    "    Tiempo al destino: {sum(minutos)} minutos\n",
    "    Total combustible: {sum(combustible.values())}\n",
    "    \"\"\"\n",
    "    for tank_name, gallons in combustible.items():\n",
    "        main_report += f\"{tank_name} tank --> {gallons} gallons left\\n\"\n",
    "    return main_report\n",
    "\n",
    "print(informeMision(\"Marte\", 13, 19, 80, main=35500, external=55200))"
   ]
  }
 ],
 "metadata": {
  "interpreter": {
   "hash": "c6d7431dcf53f783319850aaf61ced12a3c68bf79ce9ca5973a5252219934784"
  },
  "kernelspec": {
   "display_name": "Python 3.10.2 64-bit",
   "language": "python",
   "name": "python3"
  },
  "language_info": {
   "codemirror_mode": {
    "name": "ipython",
    "version": 3
   },
   "file_extension": ".py",
   "mimetype": "text/x-python",
   "name": "python",
   "nbconvert_exporter": "python",
   "pygments_lexer": "ipython3",
   "version": "3.10.2"
  },
  "orig_nbformat": 4
 },
 "nbformat": 4,
 "nbformat_minor": 2
}
